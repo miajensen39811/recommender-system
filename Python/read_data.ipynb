{
 "cells": [
  {
   "cell_type": "code",
   "execution_count": 3,
   "metadata": {},
   "outputs": [],
   "source": [
    "import pandas as pd\n",
    "import os"
   ]
  },
  {
   "cell_type": "code",
   "execution_count": 16,
   "metadata": {},
   "outputs": [],
   "source": [
    "root_dir = \"c:\\\\Users\\\\mia.jensen\\\\OneDrive - UGL Limited\\\\My Documents\\\\Home\\\\Python\\\\GitHub\\\\Repositories\\\\recommender-system\\\\\""
   ]
  },
  {
   "cell_type": "code",
   "execution_count": 18,
   "metadata": {},
   "outputs": [
    {
     "name": "stderr",
     "output_type": "stream",
     "text": [
      "C:\\Users\\mia.jensen\\AppData\\Local\\Temp\\ipykernel_25772\\398703796.py:6: DtypeWarning: Columns (10) have mixed types. Specify dtype option on import or set low_memory=False.\n",
      "  movies_metadata = pd.read_csv(root_dir + folder + \"movies_metadata.csv\")\n"
     ]
    }
   ],
   "source": [
    "folder = \"Data\\\\\"\n",
    "credits = pd.read_csv(root_dir + folder + \"credits.csv\")\n",
    "keywords = pd.read_csv(root_dir + folder + \"keywords.csv\")\n",
    "links_small = pd.read_csv(root_dir + folder + \"links_small.csv\")\n",
    "links = pd.read_csv(root_dir + folder + \"links.csv\")\n",
    "movies_metadata = pd.read_csv(root_dir + folder + \"movies_metadata.csv\")\n",
    "ratings_small = pd.read_csv(root_dir + folder + \"ratings_small.csv\")\n",
    "ratings = pd.read_csv(root_dir + folder + \"ratings.csv\")"
   ]
  },
  {
   "cell_type": "code",
   "execution_count": 20,
   "metadata": {},
   "outputs": [
    {
     "data": {
      "text/html": [
       "<div>\n",
       "<style scoped>\n",
       "    .dataframe tbody tr th:only-of-type {\n",
       "        vertical-align: middle;\n",
       "    }\n",
       "\n",
       "    .dataframe tbody tr th {\n",
       "        vertical-align: top;\n",
       "    }\n",
       "\n",
       "    .dataframe thead th {\n",
       "        text-align: right;\n",
       "    }\n",
       "</style>\n",
       "<table border=\"1\" class=\"dataframe\">\n",
       "  <thead>\n",
       "    <tr style=\"text-align: right;\">\n",
       "      <th></th>\n",
       "      <th>userId</th>\n",
       "      <th>movieId</th>\n",
       "      <th>rating</th>\n",
       "      <th>timestamp</th>\n",
       "    </tr>\n",
       "  </thead>\n",
       "  <tbody>\n",
       "    <tr>\n",
       "      <th>0</th>\n",
       "      <td>1</td>\n",
       "      <td>110</td>\n",
       "      <td>1.0</td>\n",
       "      <td>1425941529</td>\n",
       "    </tr>\n",
       "    <tr>\n",
       "      <th>1</th>\n",
       "      <td>1</td>\n",
       "      <td>147</td>\n",
       "      <td>4.5</td>\n",
       "      <td>1425942435</td>\n",
       "    </tr>\n",
       "    <tr>\n",
       "      <th>2</th>\n",
       "      <td>1</td>\n",
       "      <td>858</td>\n",
       "      <td>5.0</td>\n",
       "      <td>1425941523</td>\n",
       "    </tr>\n",
       "    <tr>\n",
       "      <th>3</th>\n",
       "      <td>1</td>\n",
       "      <td>1221</td>\n",
       "      <td>5.0</td>\n",
       "      <td>1425941546</td>\n",
       "    </tr>\n",
       "    <tr>\n",
       "      <th>4</th>\n",
       "      <td>1</td>\n",
       "      <td>1246</td>\n",
       "      <td>5.0</td>\n",
       "      <td>1425941556</td>\n",
       "    </tr>\n",
       "    <tr>\n",
       "      <th>...</th>\n",
       "      <td>...</td>\n",
       "      <td>...</td>\n",
       "      <td>...</td>\n",
       "      <td>...</td>\n",
       "    </tr>\n",
       "    <tr>\n",
       "      <th>26024284</th>\n",
       "      <td>270896</td>\n",
       "      <td>58559</td>\n",
       "      <td>5.0</td>\n",
       "      <td>1257031564</td>\n",
       "    </tr>\n",
       "    <tr>\n",
       "      <th>26024285</th>\n",
       "      <td>270896</td>\n",
       "      <td>60069</td>\n",
       "      <td>5.0</td>\n",
       "      <td>1257032032</td>\n",
       "    </tr>\n",
       "    <tr>\n",
       "      <th>26024286</th>\n",
       "      <td>270896</td>\n",
       "      <td>63082</td>\n",
       "      <td>4.5</td>\n",
       "      <td>1257031764</td>\n",
       "    </tr>\n",
       "    <tr>\n",
       "      <th>26024287</th>\n",
       "      <td>270896</td>\n",
       "      <td>64957</td>\n",
       "      <td>4.5</td>\n",
       "      <td>1257033990</td>\n",
       "    </tr>\n",
       "    <tr>\n",
       "      <th>26024288</th>\n",
       "      <td>270896</td>\n",
       "      <td>71878</td>\n",
       "      <td>2.0</td>\n",
       "      <td>1257031858</td>\n",
       "    </tr>\n",
       "  </tbody>\n",
       "</table>\n",
       "<p>26024289 rows × 4 columns</p>\n",
       "</div>"
      ],
      "text/plain": [
       "          userId  movieId  rating   timestamp\n",
       "0              1      110     1.0  1425941529\n",
       "1              1      147     4.5  1425942435\n",
       "2              1      858     5.0  1425941523\n",
       "3              1     1221     5.0  1425941546\n",
       "4              1     1246     5.0  1425941556\n",
       "...          ...      ...     ...         ...\n",
       "26024284  270896    58559     5.0  1257031564\n",
       "26024285  270896    60069     5.0  1257032032\n",
       "26024286  270896    63082     4.5  1257031764\n",
       "26024287  270896    64957     4.5  1257033990\n",
       "26024288  270896    71878     2.0  1257031858\n",
       "\n",
       "[26024289 rows x 4 columns]"
      ]
     },
     "execution_count": 20,
     "metadata": {},
     "output_type": "execute_result"
    }
   ],
   "source": [
    "ratings "
   ]
  }
 ],
 "metadata": {
  "kernelspec": {
   "display_name": "Python 3",
   "language": "python",
   "name": "python3"
  },
  "language_info": {
   "codemirror_mode": {
    "name": "ipython",
    "version": 3
   },
   "file_extension": ".py",
   "mimetype": "text/x-python",
   "name": "python",
   "nbconvert_exporter": "python",
   "pygments_lexer": "ipython3",
   "version": "3.11.3"
  }
 },
 "nbformat": 4,
 "nbformat_minor": 2
}
